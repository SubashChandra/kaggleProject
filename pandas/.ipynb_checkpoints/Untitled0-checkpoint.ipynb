{
 "metadata": {
  "name": ""
 },
 "nbformat": 3,
 "nbformat_minor": 0,
 "worksheets": [
  {
   "cells": [
    {
     "cell_type": "code",
     "collapsed": false,
     "input": [
      "import pandas as pd\n",
      "import numpy as np"
     ],
     "language": "python",
     "metadata": {},
     "outputs": [],
     "prompt_number": 33
    },
    {
     "cell_type": "code",
     "collapsed": false,
     "input": [
      "movies=pd.read_table('http://bit.ly/imdbratings',sep=',')"
     ],
     "language": "python",
     "metadata": {},
     "outputs": [],
     "prompt_number": 35
    },
    {
     "cell_type": "code",
     "collapsed": false,
     "input": [
      "movies.head()"
     ],
     "language": "python",
     "metadata": {},
     "outputs": [
      {
       "html": [
        "<div style=\"max-height:1000px;max-width:1500px;overflow:auto;\">\n",
        "<table border=\"1\" class=\"dataframe\">\n",
        "  <thead>\n",
        "    <tr style=\"text-align: right;\">\n",
        "      <th></th>\n",
        "      <th>star_rating</th>\n",
        "      <th>title</th>\n",
        "      <th>content_rating</th>\n",
        "      <th>genre</th>\n",
        "      <th>duration</th>\n",
        "      <th>actors_list</th>\n",
        "    </tr>\n",
        "  </thead>\n",
        "  <tbody>\n",
        "    <tr>\n",
        "      <th>0</th>\n",
        "      <td> 9.3</td>\n",
        "      <td> The Shawshank Redemption</td>\n",
        "      <td>     R</td>\n",
        "      <td>  Crime</td>\n",
        "      <td> 142</td>\n",
        "      <td> [u'Tim Robbins', u'Morgan Freeman', u'Bob Gunt...</td>\n",
        "    </tr>\n",
        "    <tr>\n",
        "      <th>1</th>\n",
        "      <td> 9.2</td>\n",
        "      <td>            The Godfather</td>\n",
        "      <td>     R</td>\n",
        "      <td>  Crime</td>\n",
        "      <td> 175</td>\n",
        "      <td>   [u'Marlon Brando', u'Al Pacino', u'James Caan']</td>\n",
        "    </tr>\n",
        "    <tr>\n",
        "      <th>2</th>\n",
        "      <td> 9.1</td>\n",
        "      <td>   The Godfather: Part II</td>\n",
        "      <td>     R</td>\n",
        "      <td>  Crime</td>\n",
        "      <td> 200</td>\n",
        "      <td> [u'Al Pacino', u'Robert De Niro', u'Robert Duv...</td>\n",
        "    </tr>\n",
        "    <tr>\n",
        "      <th>3</th>\n",
        "      <td> 9.0</td>\n",
        "      <td>          The Dark Knight</td>\n",
        "      <td> PG-13</td>\n",
        "      <td> Action</td>\n",
        "      <td> 152</td>\n",
        "      <td> [u'Christian Bale', u'Heath Ledger', u'Aaron E...</td>\n",
        "    </tr>\n",
        "    <tr>\n",
        "      <th>4</th>\n",
        "      <td> 8.9</td>\n",
        "      <td>             Pulp Fiction</td>\n",
        "      <td>     R</td>\n",
        "      <td>  Crime</td>\n",
        "      <td> 154</td>\n",
        "      <td> [u'John Travolta', u'Uma Thurman', u'Samuel L....</td>\n",
        "    </tr>\n",
        "  </tbody>\n",
        "</table>\n",
        "<p>5 rows \u00d7 6 columns</p>\n",
        "</div>"
       ],
       "metadata": {},
       "output_type": "pyout",
       "prompt_number": 36,
       "text": [
        "   star_rating                     title content_rating   genre  duration  \\\n",
        "0          9.3  The Shawshank Redemption              R   Crime       142   \n",
        "1          9.2             The Godfather              R   Crime       175   \n",
        "2          9.1    The Godfather: Part II              R   Crime       200   \n",
        "3          9.0           The Dark Knight          PG-13  Action       152   \n",
        "4          8.9              Pulp Fiction              R   Crime       154   \n",
        "\n",
        "                                         actors_list  \n",
        "0  [u'Tim Robbins', u'Morgan Freeman', u'Bob Gunt...  \n",
        "1    [u'Marlon Brando', u'Al Pacino', u'James Caan']  \n",
        "2  [u'Al Pacino', u'Robert De Niro', u'Robert Duv...  \n",
        "3  [u'Christian Bale', u'Heath Ledger', u'Aaron E...  \n",
        "4  [u'John Travolta', u'Uma Thurman', u'Samuel L....  \n",
        "\n",
        "[5 rows x 6 columns]"
       ]
      }
     ],
     "prompt_number": 36
    },
    {
     "cell_type": "code",
     "collapsed": false,
     "input": [
      "movies.describe()\n"
     ],
     "language": "python",
     "metadata": {},
     "outputs": [
      {
       "html": [
        "<div style=\"max-height:1000px;max-width:1500px;overflow:auto;\">\n",
        "<table border=\"1\" class=\"dataframe\">\n",
        "  <thead>\n",
        "    <tr style=\"text-align: right;\">\n",
        "      <th></th>\n",
        "      <th>star_rating</th>\n",
        "      <th>duration</th>\n",
        "    </tr>\n",
        "  </thead>\n",
        "  <tbody>\n",
        "    <tr>\n",
        "      <th>count</th>\n",
        "      <td> 979.000000</td>\n",
        "      <td> 979.000000</td>\n",
        "    </tr>\n",
        "    <tr>\n",
        "      <th>mean</th>\n",
        "      <td>   7.889785</td>\n",
        "      <td> 120.979571</td>\n",
        "    </tr>\n",
        "    <tr>\n",
        "      <th>std</th>\n",
        "      <td>   0.336069</td>\n",
        "      <td>  26.218010</td>\n",
        "    </tr>\n",
        "    <tr>\n",
        "      <th>min</th>\n",
        "      <td>   7.400000</td>\n",
        "      <td>  64.000000</td>\n",
        "    </tr>\n",
        "    <tr>\n",
        "      <th>25%</th>\n",
        "      <td>   7.600000</td>\n",
        "      <td> 102.000000</td>\n",
        "    </tr>\n",
        "    <tr>\n",
        "      <th>50%</th>\n",
        "      <td>   7.800000</td>\n",
        "      <td> 117.000000</td>\n",
        "    </tr>\n",
        "    <tr>\n",
        "      <th>75%</th>\n",
        "      <td>   8.100000</td>\n",
        "      <td> 134.000000</td>\n",
        "    </tr>\n",
        "    <tr>\n",
        "      <th>max</th>\n",
        "      <td>   9.300000</td>\n",
        "      <td> 242.000000</td>\n",
        "    </tr>\n",
        "  </tbody>\n",
        "</table>\n",
        "<p>8 rows \u00d7 2 columns</p>\n",
        "</div>"
       ],
       "metadata": {},
       "output_type": "pyout",
       "prompt_number": 37,
       "text": [
        "       star_rating    duration\n",
        "count   979.000000  979.000000\n",
        "mean      7.889785  120.979571\n",
        "std       0.336069   26.218010\n",
        "min       7.400000   64.000000\n",
        "25%       7.600000  102.000000\n",
        "50%       7.800000  117.000000\n",
        "75%       8.100000  134.000000\n",
        "max       9.300000  242.000000\n",
        "\n",
        "[8 rows x 2 columns]"
       ]
      }
     ],
     "prompt_number": 37
    },
    {
     "cell_type": "code",
     "collapsed": false,
     "input": [
      "movies.shape\n"
     ],
     "language": "python",
     "metadata": {},
     "outputs": [
      {
       "metadata": {},
       "output_type": "pyout",
       "prompt_number": 38,
       "text": [
        "(979, 6)"
       ]
      }
     ],
     "prompt_number": 38
    },
    {
     "cell_type": "code",
     "collapsed": false,
     "input": [
      "movies.dtypes"
     ],
     "language": "python",
     "metadata": {},
     "outputs": [
      {
       "metadata": {},
       "output_type": "pyout",
       "prompt_number": 43,
       "text": [
        "star_rating       float64\n",
        "title              object\n",
        "content_rating     object\n",
        "genre              object\n",
        "duration            int64\n",
        "actors_list        object\n",
        "dtype: object"
       ]
      }
     ],
     "prompt_number": 43
    },
    {
     "cell_type": "code",
     "collapsed": false,
     "input": [],
     "language": "python",
     "metadata": {},
     "outputs": [],
     "prompt_number": 39
    },
    {
     "cell_type": "code",
     "collapsed": false,
     "input": [
      "type(movies)"
     ],
     "language": "python",
     "metadata": {},
     "outputs": [
      {
       "metadata": {},
       "output_type": "pyout",
       "prompt_number": 40,
       "text": [
        "pandas.core.frame.DataFrame"
       ]
      }
     ],
     "prompt_number": 40
    },
    {
     "cell_type": "code",
     "collapsed": false,
     "input": [
      "movies.describe()\n"
     ],
     "language": "python",
     "metadata": {},
     "outputs": [
      {
       "html": [
        "<div style=\"max-height:1000px;max-width:1500px;overflow:auto;\">\n",
        "<table border=\"1\" class=\"dataframe\">\n",
        "  <thead>\n",
        "    <tr style=\"text-align: right;\">\n",
        "      <th></th>\n",
        "      <th>star_rating</th>\n",
        "      <th>duration</th>\n",
        "    </tr>\n",
        "  </thead>\n",
        "  <tbody>\n",
        "    <tr>\n",
        "      <th>count</th>\n",
        "      <td> 979.000000</td>\n",
        "      <td> 979.000000</td>\n",
        "    </tr>\n",
        "    <tr>\n",
        "      <th>mean</th>\n",
        "      <td>   7.889785</td>\n",
        "      <td> 120.979571</td>\n",
        "    </tr>\n",
        "    <tr>\n",
        "      <th>std</th>\n",
        "      <td>   0.336069</td>\n",
        "      <td>  26.218010</td>\n",
        "    </tr>\n",
        "    <tr>\n",
        "      <th>min</th>\n",
        "      <td>   7.400000</td>\n",
        "      <td>  64.000000</td>\n",
        "    </tr>\n",
        "    <tr>\n",
        "      <th>25%</th>\n",
        "      <td>   7.600000</td>\n",
        "      <td> 102.000000</td>\n",
        "    </tr>\n",
        "    <tr>\n",
        "      <th>50%</th>\n",
        "      <td>   7.800000</td>\n",
        "      <td> 117.000000</td>\n",
        "    </tr>\n",
        "    <tr>\n",
        "      <th>75%</th>\n",
        "      <td>   8.100000</td>\n",
        "      <td> 134.000000</td>\n",
        "    </tr>\n",
        "    <tr>\n",
        "      <th>max</th>\n",
        "      <td>   9.300000</td>\n",
        "      <td> 242.000000</td>\n",
        "    </tr>\n",
        "  </tbody>\n",
        "</table>\n",
        "<p>8 rows \u00d7 2 columns</p>\n",
        "</div>"
       ],
       "metadata": {},
       "output_type": "pyout",
       "prompt_number": 41,
       "text": [
        "       star_rating    duration\n",
        "count   979.000000  979.000000\n",
        "mean      7.889785  120.979571\n",
        "std       0.336069   26.218010\n",
        "min       7.400000   64.000000\n",
        "25%       7.600000  102.000000\n",
        "50%       7.800000  117.000000\n",
        "75%       8.100000  134.000000\n",
        "max       9.300000  242.000000\n",
        "\n",
        "[8 rows x 2 columns]"
       ]
      }
     ],
     "prompt_number": 41
    },
    {
     "cell_type": "code",
     "collapsed": false,
     "input": [
      "s=pd.DataFrame(movies)\n",
      "s.describe(include=['object'])"
     ],
     "language": "python",
     "metadata": {},
     "outputs": [
      {
       "ename": "TypeError",
       "evalue": "describe() got an unexpected keyword argument 'include'",
       "output_type": "pyerr",
       "traceback": [
        "\u001b[0;31m---------------------------------------------------------------------------\u001b[0m\n\u001b[0;31mTypeError\u001b[0m                                 Traceback (most recent call last)",
        "\u001b[0;32m<ipython-input-67-71a4cdd8c618>\u001b[0m in \u001b[0;36m<module>\u001b[0;34m()\u001b[0m\n\u001b[1;32m      1\u001b[0m \u001b[0ms\u001b[0m\u001b[0;34m=\u001b[0m\u001b[0mpd\u001b[0m\u001b[0;34m.\u001b[0m\u001b[0mDataFrame\u001b[0m\u001b[0;34m(\u001b[0m\u001b[0mmovies\u001b[0m\u001b[0;34m)\u001b[0m\u001b[0;34m\u001b[0m\u001b[0m\n\u001b[0;32m----> 2\u001b[0;31m \u001b[0ms\u001b[0m\u001b[0;34m.\u001b[0m\u001b[0mdescribe\u001b[0m\u001b[0;34m(\u001b[0m\u001b[0minclude\u001b[0m\u001b[0;34m=\u001b[0m\u001b[0;34m[\u001b[0m\u001b[0;34m'object'\u001b[0m\u001b[0;34m]\u001b[0m\u001b[0;34m)\u001b[0m\u001b[0;34m\u001b[0m\u001b[0m\n\u001b[0m",
        "\u001b[0;31mTypeError\u001b[0m: describe() got an unexpected keyword argument 'include'"
       ]
      }
     ],
     "prompt_number": 67
    },
    {
     "cell_type": "code",
     "collapsed": false,
     "input": [],
     "language": "python",
     "metadata": {},
     "outputs": [],
     "prompt_number": 67
    },
    {
     "cell_type": "code",
     "collapsed": false,
     "input": [],
     "language": "python",
     "metadata": {},
     "outputs": [],
     "prompt_number": 22
    },
    {
     "cell_type": "code",
     "collapsed": false,
     "input": [],
     "language": "python",
     "metadata": {},
     "outputs": [],
     "prompt_number": 22
    }
   ],
   "metadata": {}
  }
 ]
}